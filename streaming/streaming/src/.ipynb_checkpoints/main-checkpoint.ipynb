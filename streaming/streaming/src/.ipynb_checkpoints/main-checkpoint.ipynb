{
 "cells": [
  {
   "cell_type": "code",
   "execution_count": 1,
   "metadata": {},
   "outputs": [
    {
     "name": "stdout",
     "output_type": "stream",
     "text": [
      "Running\n"
     ]
    }
   ],
   "source": [
    "print(\"Running\")"
   ]
  },
  {
   "cell_type": "code",
   "execution_count": 2,
   "metadata": {},
   "outputs": [],
   "source": [
    "import os\n",
    "import openai\n",
    "from openai import OpenAI\n",
    "from dotenv import load_dotenv, find_dotenv\n",
    "_ : bool = load_dotenv(find_dotenv())  \n"
   ]
  },
  {
   "cell_type": "code",
   "execution_count": 12,
   "metadata": {},
   "outputs": [
    {
     "name": "stdout",
     "output_type": "stream",
     "text": [
      "Becoming the best AI engineer is an exciting and challenging journey, especially with a strong math background like yours. Here is a roadmap with key steps for you to follow:\n",
      "\n",
      "1. **Basic Programming Skills**: Start by gaining proficiency in programming languages commonly used in AI such as Python and R. There are online platforms like Codecademy, Coursera, and Khan Academy where you can learn these languages for free.\n",
      "\n",
      "2. **Understand Data Structures and Algorithms**: Since AI involves a lot of data manipulation and processing, having a good grasp of data structures and algorithms is crucial. You can study these topics through online courses and books like \"Introduction to Algorithms\" by Cormen et al.\n",
      "\n",
      "3. **Machine Learning and Deep Learning**: Dive into the core concepts of Machine Learning and Deep Learning. Resources like Coursera's Machine Learning course by Andrew Ng and the book \"Deep Learning\" by Goodfellow, Bengio, and Courville are great places to start.\n",
      "\n",
      "4. **Learn Statistics and Probability**: Understanding statistics and probability is essential for working with data in AI. Resources like Khan Academy and books like \"Statistics For Dummies\" can help you grasp these concepts.\n",
      "\n",
      "5. **Work on Projects**: Apply your knowledge by working on AI projects. You can find datasets to practice on platforms like Kaggle, participate in hackathons, or even contribute to open-source AI projects on GitHub.\n",
      "\n",
      "6. **Specialize**: Identify a specific area within AI that interests you, such as computer vision, natural language processing, or reinforcement learning. Deepen your knowledge and expertise in that area through online courses, research papers, and practical projects.\n",
      "\n",
      "7. **Stay Updated**: The field of AI is constantly evolving, so it's important to keep learning and staying updated with the latest trends, research papers, and technologies. Follow AI experts on platforms like Twitter, LinkedIn, and attend conferences or workshops.\n",
      "\n",
      "Remember, becoming the best AI engineer is a continuous learning process that requires dedication, curiosity, and a willingness to keep improving your skills. Good luck on your journey to becoming a top AI engineer!"
     ]
    }
   ],
   "source": [
    "from openai import OpenAI\n",
    "from openai.types.chat.chat_completion import ChatCompletion\n",
    "\n",
    "client = OpenAI()\n",
    "\n",
    "\n",
    "def chat(prompt: str) -> ChatCompletion:\n",
    "    response:ChatCompletion = client.chat.completions.create(\n",
    "        model=\"gpt-3.5-turbo\",\n",
    "        messages=[\n",
    "            {\n",
    "                \"role\": \"system\",\n",
    "                \"content\": \"You are an Andrew developer. Please help me explain to a 7th-grade student how they can become the best AI engineer.\",\n",
    "            },\n",
    "            {\"role\": \"user\", \"content\": prompt},\n",
    "        ],\n",
    "        stream=True,\n",
    "        max_tokens=500,\n",
    "    )\n",
    "    return response\n",
    "\n",
    "\n",
    "final_output = chat(\"I have completed a bachelor's degree in math. Can you provide some advice and a roadmap for me to become the best AI engineer? Please include important subjects to focus on, resources to use, and steps I should take.\")\n",
    "for part in final_output:\n",
    "    print(part.choices[0].delta.content or \"\", end=\"\")"
   ]
  }
 ],
 "metadata": {
  "kernelspec": {
   "display_name": "src-b2nQvZKm-py3.12",
   "language": "python",
   "name": "python3"
  },
  "language_info": {
   "codemirror_mode": {
    "name": "ipython",
    "version": 3
   },
   "file_extension": ".py",
   "mimetype": "text/x-python",
   "name": "python",
   "nbconvert_exporter": "python",
   "pygments_lexer": "ipython3",
   "version": "3.12.3"
  }
 },
 "nbformat": 4,
 "nbformat_minor": 2
}

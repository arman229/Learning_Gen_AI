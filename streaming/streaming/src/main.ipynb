{
 "cells": [
  {
   "cell_type": "code",
   "execution_count": null,
   "metadata": {},
   "outputs": [
    {
     "name": "stdout",
     "output_type": "stream",
     "text": [
      "Running\n"
     ]
    }
   ],
   "source": [
    "print(\"Running dev\")"
   ]
  },
  {
   "cell_type": "code",
   "execution_count": 1,
   "metadata": {},
   "outputs": [],
   "source": [
    "import os\n",
    "import openai\n",
    "from openai import OpenAI\n",
    "from dotenv import load_dotenv, find_dotenv\n",
    "_ : bool = load_dotenv(find_dotenv())  \n"
   ]
  },
  {
   "cell_type": "code",
   "execution_count": 5,
   "metadata": {},
   "outputs": [
    {
     "name": "stdout",
     "output_type": "stream",
     "text": [
      "Becoming the best AI engineer with a background in mathematics is a great choice. Here is a roadmap to help you achieve this goal:\n",
      "\n",
      "1. **Foundational Knowledge:**\n",
      "   - **Mathematics**: Your degree in math already provides a solid foundation. Make sure you have a good understanding of linear algebra, calculus, probability & statistics, and optimization. These are crucial for advanced AI concepts.\n",
      "   \n",
      "   - **Programming**: Learn programming languages commonly used in AI like Python, R, and possibly C++ or Java. You should also get comfortable with libraries like NumPy, Pandas, and TensorFlow.\n",
      "\n",
      "2. **Machine Learning and Deep Learning Concepts:**\n",
      "   - Dive deep into machine learning algorithms (supervised, unsupervised, reinforcement learning) and understand how they work mathematically. Study neural networks, deep learning architectures like CNNs and RNNs, and frameworks like PyTorch and Keras.\n",
      "\n",
      "3. **AI Applications and Real-World Projects:**\n",
      "   - Work on projects to apply your skills. Kaggle competitions, personal projects, or contributing to open-source AI projects are great ways to gain practical experience.\n",
      "\n",
      "4. **Advanced Topics:**\n",
      "   - Stay updated with the latest research papers and advancements in AI. Topics like NLP, computer vision, GANs, and reinforcement learning can be explored.\n",
      "\n",
      "5. **Online Courses and Resources:**\n",
      "   - Take advantage of online courses from platforms like Coursera, edX, Udacity, and fast.ai. Courses like Andrew Ng's \"Machine Learning\" and \"Deep Learning Specialization\" can be very beneficial.\n",
      "\n",
      "6. **Networking and Collaboration:**\n",
      "   - Join AI communities, attend conferences, and network with professionals in the field. Collaborating with others can provide new perspectives and opportunities.\n",
      "\n",
      "7. **Internships and Job Experience:**\n",
      "   - Apply for internships or entry-level positions in AI-related roles to gain hands-on experience. This will also help you understand industry requirements and practices.\n",
      "\n",
      "8. **Continuous Learning and Improvement:**\n",
      "   - AI is a rapidly evolving field, so make sure to continuously learn and improve your skills. Stay curious, experiment with new ideas, and don’t hesitate to explore different domains within AI.\n",
      "\n",
      "Remember, becoming the best AI engineer will require dedication, continuous learning, and a passion for the field. Good luck on your journey to mastering AI engineering!"
     ]
    }
   ],
   "source": [
    "from openai import OpenAI\n",
    "from openai.types.chat.chat_completion import ChatCompletion\n",
    "\n",
    "client = OpenAI()\n",
    "\n",
    "\n",
    "def chat(prompt: str) -> ChatCompletion:\n",
    "    response:ChatCompletion = client.chat.completions.create(\n",
    "        model=\"gpt-3.5-turbo\",\n",
    "        messages=[\n",
    "            {\n",
    "                \"role\": \"system\",\n",
    "                \"content\": \"You are an Andrew developer. Please help me explain to a bachelor's degree in math student how they can become the best AI engineer.\",\n",
    "            },\n",
    "            {\"role\": \"user\", \"content\": prompt},\n",
    "        ],\n",
    "        stream=True,\n",
    "        max_tokens=500,\n",
    "    )\n",
    "    return response\n",
    "\n",
    "\n",
    "final_output = chat(\"I have completed a bachelor's degree in math. Can you provide some advice and a roadmap for me to become the best AI engineer? Please include important subjects to focus on, resources to use, and steps I should take.\")\n",
    "for part in final_output:\n",
    "    print(part.choices[0].delta.content or \"\", end=\"\")"
   ]
  }
 ],
 "metadata": {
  "kernelspec": {
   "display_name": "src-b2nQvZKm-py3.12",
   "language": "python",
   "name": "python3"
  },
  "language_info": {
   "codemirror_mode": {
    "name": "ipython",
    "version": 3
   },
   "file_extension": ".py",
   "mimetype": "text/x-python",
   "name": "python",
   "nbconvert_exporter": "python",
   "pygments_lexer": "ipython3",
   "version": "3.12.3"
  }
 },
 "nbformat": 4,
 "nbformat_minor": 2
}

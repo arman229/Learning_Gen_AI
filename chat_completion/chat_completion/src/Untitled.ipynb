{
 "cells": [
  {
   "cell_type": "markdown",
   "id": "2e1762bf",
   "metadata": {},
   "source": [
    "poetry add jupyter\n",
    "python -m ipykernel install --user --name=src-b2nQvZKm-py3.12"
   ]
  },
  {
   "cell_type": "code",
   "execution_count": 23,
   "id": "8db14844",
   "metadata": {},
   "outputs": [
    {
     "name": "stdout",
     "output_type": "stream",
     "text": [
      "pakistan zindabad paintabad zindabad pakistan zindabad\n"
     ]
    }
   ],
   "source": [
    "print(\"pakistan zindabad paintabad zindabad pakistan zindabad\")"
   ]
  },
  {
   "cell_type": "code",
   "execution_count": 1,
   "id": "3e02da3b-2f22-4080-affe-631ed99470b9",
   "metadata": {},
   "outputs": [],
   "source": [
    "import os\n",
    "import openai\n",
    "from openai import OpenAI\n",
    "from dotenv import load_dotenv, find_dotenv\n",
    "_ : bool = load_dotenv(find_dotenv()) # read local .env file\n"
   ]
  },
  {
   "cell_type": "code",
   "execution_count": 2,
   "id": "09d1c868",
   "metadata": {},
   "outputs": [
    {
     "name": "stdout",
     "output_type": "stream",
     "text": [
      "AI\n"
     ]
    }
   ],
   "source": [
    " \n",
    "print(os.getenv(\"MY_COURSE\"))"
   ]
  },
  {
   "cell_type": "code",
   "execution_count": 3,
   "id": "dd16de01-3dcc-4e6f-8f3d-4a0c451d08ed",
   "metadata": {},
   "outputs": [
    {
     "name": "stdout",
     "output_type": "stream",
     "text": [
      "1. Practice regularly: The more you code, the better you will become. Try to work on coding challenges, projects, or exercising coding problems daily.\n",
      "\n",
      "2. Take online courses or attend coding boot camps: There are numerous online platforms offering coding courses that can help you learn new programming languages and improve your skills.\n",
      "\n",
      "3. Collaborate with others: Join coding communities or find a coding buddy to work on projects together. Collaborating with others can help you learn new techniques and approaches to coding.\n",
      "\n",
      "4. Read coding books and documentation: Reading books and documentation about coding can help you deepen your understanding of programming concepts and improve your skills.\n",
      "\n",
      "5. Attend coding workshops and conferences: Participating in coding workshops and conferences can help you stay up-to-date with the latest technologies and trends in the coding industry.\n",
      "\n",
      "6. Get feedback on your code: Sharing your code with others and asking for feedback can help you identify areas for improvement and learn from others.\n",
      "\n",
      "7. Experiment with different projects: Working on different types of projects can help you gain experience in various areas of coding and develop a diverse skill set.\n",
      "\n",
      "8. Stay motivated: Coding can be challenging, but staying motivated and persistent in your practice will help you continue to improve your skills over time.\n"
     ]
    }
   ],
   "source": [
    "from openai import OpenAI\n",
    "from openai.types.chat.chat_completion import ChatCompletion\n",
    "client = OpenAI()\n",
    "\n",
    "def chat(prompt: str)->ChatCompletion:\n",
    "    response:ChatCompletion = client.chat.completions.create(\n",
    "        model=\"gpt-3.5-turbo\",\n",
    "        messages=[\n",
    "            {\"role\": \"user\", \"content\": prompt}\n",
    "        ],\n",
    "        max_tokens=500\n",
    "    )\n",
    "    return response.choices[0].message.content\n",
    "\n",
    "print(chat(\"How can I improve my coding skills?\"))\n"
   ]
  },
  {
   "cell_type": "code",
   "execution_count": null,
   "id": "eb8e2075-e6f3-4f9b-a295-899d3cc6d6d5",
   "metadata": {},
   "outputs": [],
   "source": []
  }
 ],
 "metadata": {
  "kernelspec": {
   "display_name": "Python 3 (ipykernel)",
   "language": "python",
   "name": "python3"
  },
  "language_info": {
   "codemirror_mode": {
    "name": "ipython",
    "version": 3
   },
   "file_extension": ".py",
   "mimetype": "text/x-python",
   "name": "python",
   "nbconvert_exporter": "python",
   "pygments_lexer": "ipython3",
   "version": "3.12.3"
  }
 },
 "nbformat": 4,
 "nbformat_minor": 5
}

{
 "cells": [
  {
   "cell_type": "markdown",
   "id": "2e1762bf",
   "metadata": {},
   "source": [
    "poetry add jupyter\n",
    "python -m ipykernel install --user --name=src-b2nQvZKm-py3.12"
   ]
  },
  {
   "cell_type": "code",
   "execution_count": null,
   "id": "8db14844",
   "metadata": {},
   "outputs": [],
   "source": [
    "print(\"pakistan zindabad paintabad zindabad\")"
   ]
  },
  {
   "cell_type": "code",
   "execution_count": null,
   "id": "07ba8e12",
   "metadata": {},
   "outputs": [],
   "source": [
    " "
   ]
  },
  {
   "cell_type": "code",
   "execution_count": null,
   "id": "3e02da3b-2f22-4080-affe-631ed99470b9",
   "metadata": {},
   "outputs": [],
   "source": [
    "import os\n",
    "import openai\n",
    "from openai import OpenAI\n",
    "from dotenv import load_dotenv, find_dotenv\n",
    "_ : bool = load_dotenv(find_dotenv()) # read local .env file\n"
   ]
  },
  {
   "cell_type": "code",
   "execution_count": null,
   "id": "09d1c868",
   "metadata": {},
   "outputs": [],
   "source": [
    " \n",
    "print(os.getenv(\"MY_NAME\"))"
   ]
  },
  {
   "cell_type": "code",
   "execution_count": null,
   "id": "dd16de01-3dcc-4e6f-8f3d-4a0c451d08ed",
   "metadata": {},
   "outputs": [],
   "source": [
    "from openai import OpenAI\n",
    "from openai.types.chat.chat_completion import ChatCompletion\n",
    "client = OpenAI()\n",
    "\n",
    "def chat(prompt: str)->ChatCompletion:\n",
    "    response:ChatCompletion = client.chat.completions.create(\n",
    "        model=\"gpt-3.5-turbo\",\n",
    "        messages=[\n",
    "            {\"role\": \"user\", \"content\": prompt}\n",
    "        ],\n",
    "        max_tokens=500\n",
    "    )\n",
    "    return response.choices[0].message.content\n",
    "\n",
    "print(chat(\"How can I improve my coding skills?\"))\n"
   ]
  }
 ],
 "metadata": {
  "kernelspec": {
   "display_name": "Python 3 (ipykernel)",
   "language": "python",
   "name": "python3"
  },
  "language_info": {
   "codemirror_mode": {
    "name": "ipython",
    "version": 3
   },
   "file_extension": ".py",
   "mimetype": "text/x-python",
   "name": "python",
   "nbconvert_exporter": "python",
   "pygments_lexer": "ipython3",
   "version": "3.12.3"
  }
 },
 "nbformat": 4,
 "nbformat_minor": 5
}

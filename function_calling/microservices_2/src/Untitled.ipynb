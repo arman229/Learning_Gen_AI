{
 "cells": [
  {
   "cell_type": "code",
   "execution_count": 1,
   "id": "569a4e51-1df2-4fc9-8ba5-5dde73376907",
   "metadata": {},
   "outputs": [
    {
     "name": "stdout",
     "output_type": "stream",
     "text": [
      "I love pakistan\n"
     ]
    }
   ],
   "source": [
    "print(\"I love pakistan\")"
   ]
  },
  {
   "cell_type": "code",
   "execution_count": 1,
   "id": "97b76b39-1382-4fea-adf8-2328293b6cb8",
   "metadata": {},
   "outputs": [
    {
     "name": "stdout",
     "output_type": "stream",
     "text": [
      "Today i want to learn about function calling \n"
     ]
    }
   ],
   "source": [
    "print(\"Today i want to learn about function calling \")"
   ]
  },
  {
   "cell_type": "code",
   "execution_count": 5,
   "id": "e97dc420",
   "metadata": {},
   "outputs": [
    {
     "name": "stdout",
     "output_type": "stream",
     "text": [
      "True\n",
      "sk-proj-B08BdvOyQzfEizc7ydXHT3BlbkFJW3eC6whEd9cmT4ejmTST\n"
     ]
    }
   ],
   "source": [
    "import os\n",
    "from dotenv import load_dotenv,find_dotenv\n",
    "from openai import OpenAI\n",
    "\n",
    "__: bool =  load_dotenv(find_dotenv())\n",
    "\n",
    "client:OpenAI = OpenAI()\n",
    "\n"
   ]
  },
  {
   "cell_type": "code",
   "execution_count": null,
   "id": "b747c3eb",
   "metadata": {},
   "outputs": [],
   "source": [
    "print(__)\n",
    "print(os.getenv(\"OPENAI_API_KEY\"))"
   ]
  },
  {
   "cell_type": "code",
   "execution_count": null,
   "id": "f14d5e77",
   "metadata": {},
   "outputs": [],
   "source": [
    "import json\n",
    "import os\n",
    "from dotenv import load_dotenv,find_dotenv\n",
    "from openai import OpenAI\n",
    "\n",
    "__: bool =  load_dotenv(find_dotenv())\n",
    "\n",
    "client:OpenAI = OpenAI()\n",
    "\n",
    "\n",
    "def piaic_fun(prompt: str) -> str:\n",
    "    \n",
    "    messages = [{\n",
    "        \"role\": \"user\",\n",
    "        \"content\": prompt,\n",
    "    }]\n",
    "    tools = [\n",
    "    {\n",
    "        \"type\": \"function\",\n",
    "        \"function\": {\n",
    "            \"name\": \"get_route_info\",\n",
    "            \"description\": \"Get the route information for a specific Speedo bus route\",\n",
    "            \"parameters\": {\n",
    "                \"type\": \"object\",\n",
    "                \"properties\": {\n",
    "                    \"route_number\": {\n",
    "                        \"type\": \"integer\",\n",
    "                        \"description\": \"The route number of the Speedo bus\",\n",
    "                    },\n",
    "                },\n",
    "                \"required\": [\"route_number\"],\n",
    "            },\n",
    "        },\n",
    "    },\n",
    "    {\n",
    "        \"type\": \"function\",\n",
    "        \"function\": {\n",
    "            \"name\": \"get_fare_details\",\n",
    "            \"description\": \"Get fare details of Speedo buses\",\n",
    "            \"parameters\": {\n",
    "                \"type\": \"object\",\n",
    "                \"properties\": {},\n",
    "            },\n",
    "        },\n",
    "    },\n",
    "    {\n",
    "        \"type\": \"function\",\n",
    "        \"function\": {\n",
    "            \"name\": \"get_schedule\",\n",
    "            \"description\": \"Get the schedule of Speedo buses\",\n",
    "            \"parameters\": {\n",
    "                \"type\": \"object\",\n",
    "                \"properties\": {},\n",
    "            },\n",
    "        },\n",
    "    },\n",
    "    {\n",
    "        \"type\": \"function\",\n",
    "        \"function\": {\n",
    "            \"name\": \"get_helpline_info\",\n",
    "            \"description\": \"Get the helpline information for Speedo buses\",\n",
    "            \"parameters\": {\n",
    "                \"type\": \"object\",\n",
    "                \"properties\": {},\n",
    "            },\n",
    "        },\n",
    "    },\n",
    "]\n",
    "\n",
    "\n",
    "    response = client.chat.completions.create(\n",
    "        model=\"gpt-3.5-turbo\", messages=messages, tools=tools\n",
    "    )\n",
    "    response_message =  response.choices[0].message\n",
    "    tools_calls = response_message.tool_calls\n",
    "    if tools_calls:\n",
    "        messages.append(response_message)\n",
    "        for tool in tools_calls:\n",
    "            function_name = tool.function.name\n",
    "            function_args = json.loads(tool.function.arguments)\n",
    "            function_response = get_fare_details( )\n",
    "            messages.append(\n",
    "            {\n",
    "                \"tool_call_id\": tool.id,\n",
    "                \"role\": \"tool\",\n",
    "                \"name\": function_name,\n",
    "                \"content\": json.dumps(function_response),\n",
    "            }\n",
    "        )   \n",
    "        second_response = client.chat.completions.create(\n",
    "            model=\"gpt-3.5-turbo-1106\",\n",
    "            messages=messages,\n",
    "        )   \n",
    "        print(\"* Second Response: \", dict(second_response))\n",
    "    return second_response.choices[0].message.content"
   ]
  },
  {
   "cell_type": "code",
   "execution_count": null,
   "id": "3e7f66ae",
   "metadata": {},
   "outputs": [],
   "source": []
  },
  {
   "cell_type": "code",
   "execution_count": null,
   "id": "f4543654",
   "metadata": {},
   "outputs": [],
   "source": [
    " import json\n",
    "import os\n",
    "from dotenv import load_dotenv,find_dotenv\n",
    "from openai import OpenAI\n",
    "\n",
    "__: bool =  load_dotenv(find_dotenv())\n",
    "\n",
    "client:OpenAI = OpenAI()\n",
    "\n",
    "\n",
    "def piaic_fun(prompt: str) -> str:\n",
    "    \n",
    "    messages = [{\n",
    "        \"role\": \"user\",\n",
    "        \"content\": prompt,\n",
    "    }]\n",
    "    tools = [\n",
    "    {\n",
    "        \"type\": \"function\",\n",
    "        \"function\": {\n",
    "            \"name\": \"get_route_info\",\n",
    "            \"description\": \"Get the route information for a specific Speedo bus route\",\n",
    "            \"parameters\": {\n",
    "                \"type\": \"object\",\n",
    "                \"properties\": {\n",
    "                    \"route_number\": {\n",
    "                        \"type\": \"integer\",\n",
    "                        \"description\": \"The route number of the Speedo bus\",\n",
    "                    },\n",
    "                },\n",
    "                \"required\": [\"route_number\"],\n",
    "            },\n",
    "        },\n",
    "    },\n",
    " \n",
    "    \n",
    "    \n",
    "]\n",
    "\n",
    "\n",
    "    response = client.chat.completions.create(\n",
    "        model=\"gpt-3.5-turbo\", messages=messages, tools=tools\n",
    "    )\n",
    "    response_message =  response.choices[0].message\n",
    "    tools_calls = response_message.tool_calls\n",
    "    if tools_calls:\n",
    "        messages.append(response_message)\n",
    "        for tool in tools_calls:\n",
    "            function_name = tool.function.name\n",
    "            function_args = json.loads(tool.function.arguments)\n",
    "            function_response = get_fare_details( )\n",
    "            messages.append(\n",
    "            {\n",
    "                \"tool_call_id\": tool.id,\n",
    "                \"role\": \"tool\",\n",
    "                \"name\": function_name,\n",
    "                \"content\": json.dumps(function_response),\n",
    "            }\n",
    "        )   \n",
    "        second_response = client.chat.completions.create(\n",
    "            model=\"gpt-3.5-turbo-1106\",\n",
    "            messages=messages,\n",
    "        )   \n",
    "        print(\"* Second Response: \", dict(second_response))\n",
    "    return second_response.choices[0].message.content"
   ]
  },
  {
   "cell_type": "code",
   "execution_count": null,
   "id": "f7755fc9",
   "metadata": {},
   "outputs": [],
   "source": [
    " "
   ]
  },
  {
   "cell_type": "code",
   "execution_count": null,
   "id": "fc3723fc",
   "metadata": {},
   "outputs": [],
   "source": [
    "piaic_fun('')"
   ]
  }
 ],
 "metadata": {
  "kernelspec": {
   "display_name": "Python 3 (ipykernel)",
   "language": "python",
   "name": "python3"
  },
  "language_info": {
   "codemirror_mode": {
    "name": "ipython",
    "version": 3
   },
   "file_extension": ".py",
   "mimetype": "text/x-python",
   "name": "python",
   "nbconvert_exporter": "python",
   "pygments_lexer": "ipython3",
   "version": "3.12.3"
  }
 },
 "nbformat": 4,
 "nbformat_minor": 5
}
